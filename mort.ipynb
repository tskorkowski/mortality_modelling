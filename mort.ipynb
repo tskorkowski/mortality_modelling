{
 "cells": [
  {
   "cell_type": "markdown",
   "metadata": {},
   "source": [
    "Code based on the actuarial data science tutorial and paper:\n",
    "https://github.com/actuarial-data-science/Tutorials/tree/master/6%20-%20Lee%20and%20Carter%20go%20Machine%20Learning%20Recurrent%20Neural%20Networks"
   ]
  },
  {
   "cell_type": "code",
   "execution_count": 4,
   "metadata": {},
   "outputs": [],
   "source": [
    "import numpy as np\n",
    "import pandas as pd\n",
    "import matplotlib.pyplot as plt\n",
    "import seaborn as sns"
   ]
  },
  {
   "cell_type": "markdown",
   "metadata": {},
   "source": [
    "Data\n",
    "\n",
    " The data is divided by genders, and\n",
    " the raw mortality rates are denoted by mx, see line 7 of Listing 1. Since we are going to model\n",
    " log-mortality rates the raw morality rates need to be strictly positive. In the original data from\n",
    " the HMD there were 10 observations with mx = 0, these observations have been replaced\n",
    " by a mortality rate average over all available countries in the HMD (of the same age x, in the\n",
    " same calendar year t and of the same gender). These modi ed raw mortality rates received a\n",
    " flag, indicated on line 6 of Listing 1"
   ]
  },
  {
   "cell_type": "code",
   "execution_count": 7,
   "metadata": {},
   "outputs": [
    {
     "name": "stdout",
     "output_type": "stream",
     "text": [
      "<class 'pandas.core.frame.DataFrame'>\n",
      "RangeIndex: 13400 entries, 0 to 13399\n",
      "Data columns (total 7 columns):\n",
      " #   Column        Non-Null Count  Dtype  \n",
      "---  ------        --------------  -----  \n",
      " 0   Gender        13400 non-null  object \n",
      " 1   Year          13400 non-null  int64  \n",
      " 2   Age           13400 non-null  int64  \n",
      " 3   Country       13400 non-null  object \n",
      " 4   imputed_flag  13400 non-null  bool   \n",
      " 5   mx            13400 non-null  float64\n",
      " 6   logmx         13400 non-null  float64\n",
      "dtypes: bool(1), float64(2), int64(2), object(2)\n",
      "memory usage: 641.3+ KB\n"
     ]
    }
   ],
   "source": [
    "mort_data_raw = pd.read_csv(\"CHE_mort.csv\", sep=\";\")\n",
    "mort_data_raw.info()"
   ]
  },
  {
   "cell_type": "code",
   "execution_count": 8,
   "metadata": {},
   "outputs": [
    {
     "data": {
      "text/plain": [
       "imputed_flag\n",
       "False    13390\n",
       "True        10\n",
       "Name: count, dtype: int64"
      ]
     },
     "execution_count": 8,
     "metadata": {},
     "output_type": "execute_result"
    }
   ],
   "source": []
  }
 ],
 "metadata": {
  "kernelspec": {
   "display_name": "venv",
   "language": "python",
   "name": "python3"
  },
  "language_info": {
   "codemirror_mode": {
    "name": "ipython",
    "version": 3
   },
   "file_extension": ".py",
   "mimetype": "text/x-python",
   "name": "python",
   "nbconvert_exporter": "python",
   "pygments_lexer": "ipython3",
   "version": "3.10.8"
  }
 },
 "nbformat": 4,
 "nbformat_minor": 2
}
